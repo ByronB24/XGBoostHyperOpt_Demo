{
 "cells": [
  {
   "cell_type": "markdown",
   "id": "37332ff9-55d7-47d7-82bc-bc3b0c1c9d3b",
   "metadata": {},
   "source": [
    "# Quick demonstration of the application of hyperopt and XGBoost\n",
    "## This is not a comprehensive guide, but rather aimed at those aspiring Data Scientists that might want to run before you can walk.  \n",
    "Reading:\n",
    "* https://xgboost.readthedocs.io/en/stable/\n",
    "* http://hyperopt.github.io/hyperopt/\n",
    "\n",
    "Better Guides and Examples:\n",
    "* https://www.kaggle.com/prashant111/a-guide-on-xgboost-hyperparameters-tuning "
   ]
  },
  {
   "cell_type": "markdown",
   "id": "b16366ee-bfe5-4fd4-903a-29aae9977b9c",
   "metadata": {},
   "source": [
    "# Import Libraries"
   ]
  },
  {
   "cell_type": "code",
   "execution_count": 141,
   "id": "9a98f5de-1393-4e40-a96e-0c7c1a450fb8",
   "metadata": {},
   "outputs": [],
   "source": [
    "import pandas as pd\n",
    "import numpy as np\n",
    "import xgboost\n",
    "from xgboost import XGBClassifier\n",
    "from hyperopt import  fmin, tpe, hp, Trials,STATUS_OK\n",
    "from hyperopt.early_stop import no_progress_loss\n",
    "from sklearn.model_selection import train_test_split, cross_val_score, StratifiedKFold\n",
    "from sklearn.datasets import fetch_openml\n",
    "from sklearn.metrics import classification_report\n",
    "from functools import partial"
   ]
  },
  {
   "cell_type": "markdown",
   "id": "e54888e4-af26-4201-90b6-73b124502a8a",
   "metadata": {},
   "source": [
    "# Data cleaning, processing, imputing, interactions...\n",
    "## Out of Demo scope...but dont forget, that 80/90% of the work "
   ]
  },
  {
   "cell_type": "code",
   "execution_count": null,
   "id": "8936e1c0-408e-466f-b8d1-84fb07aaba37",
   "metadata": {},
   "outputs": [],
   "source": []
  },
  {
   "cell_type": "markdown",
   "id": "07433871-47aa-4d8a-9c95-08925b46c88d",
   "metadata": {},
   "source": [
    "# Get Some Data - Titanic Dataset...."
   ]
  },
  {
   "cell_type": "code",
   "execution_count": 75,
   "id": "2c14c501-f22a-4c51-9af1-a3447323bbe4",
   "metadata": {},
   "outputs": [],
   "source": [
    "X, y = fetch_openml(\"titanic\", version=1, as_frame=True, return_X_y=True)"
   ]
  },
  {
   "cell_type": "code",
   "execution_count": 91,
   "id": "0a8dab70-5e74-4b14-aeba-e8f26dbfe618",
   "metadata": {},
   "outputs": [
    {
     "data": {
      "text/html": [
       "<div>\n",
       "<style scoped>\n",
       "    .dataframe tbody tr th:only-of-type {\n",
       "        vertical-align: middle;\n",
       "    }\n",
       "\n",
       "    .dataframe tbody tr th {\n",
       "        vertical-align: top;\n",
       "    }\n",
       "\n",
       "    .dataframe thead th {\n",
       "        text-align: right;\n",
       "    }\n",
       "</style>\n",
       "<table border=\"1\" class=\"dataframe\">\n",
       "  <thead>\n",
       "    <tr style=\"text-align: right;\">\n",
       "      <th></th>\n",
       "      <th>age</th>\n",
       "      <th>sibsp</th>\n",
       "      <th>parch</th>\n",
       "      <th>pclass</th>\n",
       "      <th>target</th>\n",
       "    </tr>\n",
       "  </thead>\n",
       "  <tbody>\n",
       "    <tr>\n",
       "      <th>0</th>\n",
       "      <td>29.0000</td>\n",
       "      <td>0.0</td>\n",
       "      <td>0.0</td>\n",
       "      <td>1.0</td>\n",
       "      <td>1</td>\n",
       "    </tr>\n",
       "    <tr>\n",
       "      <th>1</th>\n",
       "      <td>0.9167</td>\n",
       "      <td>1.0</td>\n",
       "      <td>2.0</td>\n",
       "      <td>1.0</td>\n",
       "      <td>1</td>\n",
       "    </tr>\n",
       "    <tr>\n",
       "      <th>2</th>\n",
       "      <td>2.0000</td>\n",
       "      <td>1.0</td>\n",
       "      <td>2.0</td>\n",
       "      <td>1.0</td>\n",
       "      <td>0</td>\n",
       "    </tr>\n",
       "    <tr>\n",
       "      <th>3</th>\n",
       "      <td>30.0000</td>\n",
       "      <td>1.0</td>\n",
       "      <td>2.0</td>\n",
       "      <td>1.0</td>\n",
       "      <td>0</td>\n",
       "    </tr>\n",
       "    <tr>\n",
       "      <th>4</th>\n",
       "      <td>25.0000</td>\n",
       "      <td>1.0</td>\n",
       "      <td>2.0</td>\n",
       "      <td>1.0</td>\n",
       "      <td>0</td>\n",
       "    </tr>\n",
       "  </tbody>\n",
       "</table>\n",
       "</div>"
      ],
      "text/plain": [
       "       age  sibsp  parch  pclass  target\n",
       "0  29.0000    0.0    0.0     1.0       1\n",
       "1   0.9167    1.0    2.0     1.0       1\n",
       "2   2.0000    1.0    2.0     1.0       0\n",
       "3  30.0000    1.0    2.0     1.0       0\n",
       "4  25.0000    1.0    2.0     1.0       0"
      ]
     },
     "execution_count": 91,
     "metadata": {},
     "output_type": "execute_result"
    }
   ],
   "source": [
    "#Select some features and make sure find for model.\n",
    "df = fetch_openml(\"titanic\", version=1, as_frame=True, return_X_y=False)[\"data\"]\n",
    "df[\"target\"] = fetch_openml(\"titanic\", version=1, as_frame=True, return_X_y=False)[\"target\"]\n",
    "df[\"target\"] = df[\"target\"].astype(int)\n",
    "df = df[[\"age\",\"sibsp\",\"parch\",\"pclass\",\"target\"]].copy()\n",
    "df.head()"
   ]
  },
  {
   "cell_type": "markdown",
   "id": "9fdf45d7-e5ee-4805-b163-7c4442239a8c",
   "metadata": {},
   "source": [
    "# Define Target and Split "
   ]
  },
  {
   "cell_type": "code",
   "execution_count": 92,
   "id": "0c3f2cca-9af5-4bf7-97ae-1d3b36c5f9e0",
   "metadata": {},
   "outputs": [],
   "source": [
    "X = df.drop(\"target\",axis=1)\n",
    "y= df[\"target\"]"
   ]
  },
  {
   "cell_type": "code",
   "execution_count": 95,
   "id": "e6b9e989-caa8-4172-8e1f-5ffb5f8217b3",
   "metadata": {},
   "outputs": [],
   "source": [
    "X_train, X_test, y_train, y_test = train_test_split(X, y, test_size=0.33, random_state=42)"
   ]
  },
  {
   "cell_type": "markdown",
   "id": "eceb89a4-5519-47c1-a640-a135aa9bd706",
   "metadata": {},
   "source": [
    "# As a wise man once said.... Meat & Potatoes"
   ]
  },
  {
   "cell_type": "markdown",
   "id": "402e84d9-8ebf-4db2-a7de-a3c44625cf40",
   "metadata": {},
   "source": [
    "#### The first thing you need to do is define the search space for the optimizer. Dont make it so narrow that is anticlimatic, not so wide that youll rather watch paint dry. Be sensible!"
   ]
  },
  {
   "cell_type": "code",
   "execution_count": 122,
   "id": "3bcdb6e3-5d18-4030-bb75-1d99f758b06f",
   "metadata": {},
   "outputs": [],
   "source": [
    "\"\"\"\n",
    "Define hyperopt search space\n",
    "\"\"\"\n",
    "\n",
    "search_space = {\n",
    "    'max_depth' : hp.choice('max_depth', range(10, 50, 1)), # 50 is way too much for titanic dataset. It will overfit, but thats out of the scope.  \n",
    "    'learning_rate' : hp.quniform('learning_rate', 0.01, 0.15, 0.02), # The weight of new trees added.  \n",
    "    'n_estimators' : hp.choice('n_estimators', range(5, 20, 5)), #Number of trees\n",
    "    'min_child_weight': hp.choice('min_child_weight', range(20, 30, 10)) #Minimum number of samples/obervsations required to create a new node. Set it high enough to address overfitting. Youll have to experiment  \n",
    "}"
   ]
  },
  {
   "cell_type": "code",
   "execution_count": 135,
   "id": "cb3683cb-66c7-4c51-af5b-fcb3c647f954",
   "metadata": {},
   "outputs": [],
   "source": [
    "#Counter:  Not necessary, i use it because sometimes the results from the trial look odd and much rather retrieve the parameters this way\n",
    "\n",
    "\n",
    "# evalround=0\n",
    "\n",
    "\n",
    "def objective(params, X_train, y_train,cv,metric,maximise=True): \n",
    "    \"\"\"\n",
    "        * This is the objective function called by the hyperopt minimisation algorithm. \n",
    "        * For minimisation, you have to make the score metric negative to comply with \"Larger is Better\". Else, dont change anything. maximise param takes care of this. Set it to False if you want to minimise\n",
    "        * This object will be called for each of the evaluations specified in the fmin() hyperopt function\n",
    "        * If using cross_val_score, the \"Scoring\" metric can be a custom (see sklearn makescorer) or one can be chosen from  from:https://scikit-learn.org/stable/modules/model_evaluation.html\n",
    "    Args:\n",
    "        params: Dictionary defining tuning search space\n",
    "    \n",
    "    Returns:\n",
    "        * Average score returned by cross_val_score\n",
    "        * Metric used for optimisation\n",
    "        * Parameters used to achieve returned loss\n",
    "        * Status\n",
    "    \"\"\"\n",
    "    \n",
    "    clf = XGBClassifier(n_jobs = 40,**params,use_label_encoder=False,eval_metric = \"logloss\")\n",
    "    # evalround+=1\n",
    "   \n",
    "    score =  cross_val_score(estimator = clf, \n",
    "                              X = X_train, \n",
    "                              y = y_train, \n",
    "                              scoring = metric, \n",
    "                              cv=StratifiedKFold(n_splits=cv)).mean()\n",
    "    \n",
    "    if not maximise is True:\n",
    "        score = -score\n",
    "    \n",
    "    print(\"Parameters: {}\".format(params))\n",
    "    print(\"Score {}\".format(score))\n",
    "    return {\"loss\":score,\"Metric\": metric, \"paramdict\":params,\"status\": STATUS_OK}"
   ]
  },
  {
   "cell_type": "code",
   "execution_count": 136,
   "id": "da0b2e95-8ce6-42c9-bf51-6cd9e686fc41",
   "metadata": {
    "scrolled": true,
    "tags": []
   },
   "outputs": [
    {
     "name": "stdout",
     "output_type": "stream",
     "text": [
      "Parameters: {'learning_rate': 0.14, 'max_depth': 37, 'min_child_weight': 20, 'n_estimators': 5}                        \n",
      "Score -0.6124809448000639                                                                                              \n",
      "Parameters: {'learning_rate': 0.02, 'max_depth': 47, 'min_child_weight': 20, 'n_estimators': 10}                       \n",
      "Score -0.5768878524024752                                                                                              \n",
      "Parameters: {'learning_rate': 0.14, 'max_depth': 27, 'min_child_weight': 20, 'n_estimators': 5}                        \n",
      "Score -0.6124809448000639                                                                                              \n",
      "Parameters: {'learning_rate': 0.06, 'max_depth': 35, 'min_child_weight': 20, 'n_estimators': 10}                       \n",
      "Score -0.5782929106120296                                                                                              \n",
      "Parameters: {'learning_rate': 0.14, 'max_depth': 39, 'min_child_weight': 20, 'n_estimators': 15}                       \n",
      "Score -0.6883735287936107                                                                                              \n",
      "Parameters: {'learning_rate': 0.14, 'max_depth': 46, 'min_child_weight': 20, 'n_estimators': 5}                        \n",
      "Score -0.6124809448000639                                                                                              \n",
      "Parameters: {'learning_rate': 0.04, 'max_depth': 38, 'min_child_weight': 20, 'n_estimators': 5}                        \n",
      "Score -0.5768878524024752                                                                                              \n",
      "Parameters: {'learning_rate': 0.02, 'max_depth': 11, 'min_child_weight': 20, 'n_estimators': 10}                       \n",
      "Score -0.5768878524024752                                                                                              \n",
      "Parameters: {'learning_rate': 0.06, 'max_depth': 42, 'min_child_weight': 20, 'n_estimators': 15}                       \n",
      "Score -0.6215670799455211                                                                                              \n",
      "Parameters: {'learning_rate': 0.04, 'max_depth': 41, 'min_child_weight': 20, 'n_estimators': 15}                       \n",
      "Score -0.5782929106120296                                                                                              \n",
      "Parameters: {'learning_rate': 0.06, 'max_depth': 49, 'min_child_weight': 20, 'n_estimators': 10}                       \n",
      "Score -0.5782929106120296                                                                                              \n",
      "Parameters: {'learning_rate': 0.04, 'max_depth': 11, 'min_child_weight': 20, 'n_estimators': 15}                       \n",
      "Score -0.5782929106120296                                                                                              \n",
      "Parameters: {'learning_rate': 0.02, 'max_depth': 21, 'min_child_weight': 20, 'n_estimators': 15}                       \n",
      "Score -0.5768878524024752                                                                                              \n",
      "Parameters: {'learning_rate': 0.14, 'max_depth': 19, 'min_child_weight': 20, 'n_estimators': 15}                       \n",
      "Score -0.6883735287936107                                                                                              \n",
      "Parameters: {'learning_rate': 0.04, 'max_depth': 18, 'min_child_weight': 20, 'n_estimators': 10}                       \n",
      "Score -0.5768878524024752                                                                                              \n",
      "Parameters: {'learning_rate': 0.1, 'max_depth': 40, 'min_child_weight': 20, 'n_estimators': 5}                         \n",
      "Score -0.5782929106120296                                                                                              \n",
      "Parameters: {'learning_rate': 0.12, 'max_depth': 29, 'min_child_weight': 20, 'n_estimators': 15}                       \n",
      "Score -0.6671041104864635                                                                                              \n",
      "Parameters: {'learning_rate': 0.06, 'max_depth': 46, 'min_child_weight': 20, 'n_estimators': 15}                       \n",
      "Score -0.6215670799455211                                                                                              \n",
      "Parameters: {'learning_rate': 0.02, 'max_depth': 33, 'min_child_weight': 20, 'n_estimators': 10}                       \n",
      "Score -0.5768878524024752                                                                                              \n",
      "Parameters: {'learning_rate': 0.08, 'max_depth': 33, 'min_child_weight': 20, 'n_estimators': 15}                       \n",
      "Score -0.6191632337916749                                                                                              \n",
      "Parameters: {'learning_rate': 0.12, 'max_depth': 39, 'min_child_weight': 20, 'n_estimators': 15}                       \n",
      "Score -0.6671041104864635                                                                                              \n",
      "Parameters: {'learning_rate': 0.12, 'max_depth': 19, 'min_child_weight': 20, 'n_estimators': 15}                       \n",
      "Score -0.6671041104864635                                                                                              \n",
      "Parameters: {'learning_rate': 0.1, 'max_depth': 39, 'min_child_weight': 20, 'n_estimators': 15}                        \n",
      "Score -0.6321241258741258                                                                                              \n",
      "Parameters: {'learning_rate': 0.1, 'max_depth': 30, 'min_child_weight': 20, 'n_estimators': 15}                        \n",
      "Score -0.6321241258741258                                                                                              \n",
      "Parameters: {'learning_rate': 0.14, 'max_depth': 12, 'min_child_weight': 20, 'n_estimators': 15}                       \n",
      "Score -0.6883735287936107                                                                                              \n",
      "Parameters: {'learning_rate': 0.12, 'max_depth': 12, 'min_child_weight': 20, 'n_estimators': 15}                       \n",
      "Score -0.6671041104864635                                                                                              \n",
      "Parameters: {'learning_rate': 0.08, 'max_depth': 19, 'min_child_weight': 20, 'n_estimators': 15}                       \n",
      "Score -0.6191632337916749                                                                                              \n",
      "Parameters: {'learning_rate': 0.14, 'max_depth': 13, 'min_child_weight': 20, 'n_estimators': 15}                       \n",
      "Score -0.6883735287936107                                                                                              \n",
      "Parameters: {'learning_rate': 0.12, 'max_depth': 12, 'min_child_weight': 20, 'n_estimators': 5}                        \n",
      "Score -0.5782929106120296                                                                                              \n",
      "Parameters: {'learning_rate': 0.14, 'max_depth': 13, 'min_child_weight': 20, 'n_estimators': 15}                       \n",
      "Score -0.6883735287936107                                                                                              \n",
      "Parameters: {'learning_rate': 0.1, 'max_depth': 13, 'min_child_weight': 20, 'n_estimators': 15}                        \n",
      "Score -0.6321241258741258                                                                                              \n",
      "Parameters: {'learning_rate': 0.14, 'max_depth': 15, 'min_child_weight': 20, 'n_estimators': 5}                        \n",
      "Score -0.6124809448000639                                                                                              \n",
      "Parameters: {'learning_rate': 0.12, 'max_depth': 13, 'min_child_weight': 20, 'n_estimators': 15}                       \n",
      "Score -0.6671041104864635                                                                                              \n",
      "Parameters: {'learning_rate': 0.14, 'max_depth': 14, 'min_child_weight': 20, 'n_estimators': 10}                       \n",
      "Score -0.6211178365659498                                                                                              \n",
      "Parameters: {'learning_rate': 0.1, 'max_depth': 22, 'min_child_weight': 20, 'n_estimators': 5}                         \n",
      "Score -0.5782929106120296                                                                                              \n",
      "Parameters: {'learning_rate': 0.08, 'max_depth': 34, 'min_child_weight': 20, 'n_estimators': 15}                       \n",
      "Score -0.6191632337916749                                                                                              \n",
      "Parameters: {'learning_rate': 0.12, 'max_depth': 43, 'min_child_weight': 20, 'n_estimators': 10}                       \n",
      "Score -0.6191632337916749                                                                                              \n",
      "Parameters: {'learning_rate': 0.14, 'max_depth': 32, 'min_child_weight': 20, 'n_estimators': 5}                        \n",
      "Score -0.6124809448000639                                                                                              \n",
      "Parameters: {'learning_rate': 0.14, 'max_depth': 17, 'min_child_weight': 20, 'n_estimators': 15}                       \n",
      "Score -0.6883735287936107                                                                                              \n",
      "Parameters: {'learning_rate': 0.1, 'max_depth': 48, 'min_child_weight': 20, 'n_estimators': 15}                        \n",
      "Score -0.6321241258741258                                                                                              \n",
      "Parameters: {'learning_rate': 0.12, 'max_depth': 23, 'min_child_weight': 20, 'n_estimators': 10}                       \n",
      "Score -0.6191632337916749                                                                                              \n",
      "Parameters: {'learning_rate': 0.14, 'max_depth': 17, 'min_child_weight': 20, 'n_estimators': 15}                       \n",
      "Score -0.6883735287936107                                                                                              \n",
      "Parameters: {'learning_rate': 0.08, 'max_depth': 17, 'min_child_weight': 20, 'n_estimators': 5}                        \n",
      "Score -0.5768878524024752                                                                                              \n",
      "Parameters: {'learning_rate': 0.14, 'max_depth': 17, 'min_child_weight': 20, 'n_estimators': 15}                       \n",
      "Score -0.6883735287936107                                                                                              \n",
      "Parameters: {'learning_rate': 0.1, 'max_depth': 45, 'min_child_weight': 20, 'n_estimators': 15}                        \n",
      "Score -0.6321241258741258                                                                                              \n",
      "Parameters: {'learning_rate': 0.06, 'max_depth': 25, 'min_child_weight': 20, 'n_estimators': 10}                       \n",
      "Score -0.5782929106120296                                                                                              \n",
      "Parameters: {'learning_rate': 0.12, 'max_depth': 20, 'min_child_weight': 20, 'n_estimators': 15}                       \n",
      "Score -0.6671041104864635                                                                                              \n",
      "Parameters: {'learning_rate': 0.14, 'max_depth': 31, 'min_child_weight': 20, 'n_estimators': 5}                        \n",
      "Score -0.6124809448000639                                                                                              \n",
      "Parameters: {'learning_rate': 0.04, 'max_depth': 44, 'min_child_weight': 20, 'n_estimators': 15}                       \n",
      "Score -0.5782929106120296                                                                                              \n",
      "Parameters: {'learning_rate': 0.06, 'max_depth': 26, 'min_child_weight': 20, 'n_estimators': 10}                       \n",
      "Score -0.5782929106120296                                                                                              \n",
      "Parameters: {'learning_rate': 0.12, 'max_depth': 24, 'min_child_weight': 20, 'n_estimators': 15}                       \n",
      "Score -0.6671041104864635                                                                                              \n",
      "Parameters: {'learning_rate': 0.14, 'max_depth': 28, 'min_child_weight': 20, 'n_estimators': 15}                       \n",
      "Score -0.6883735287936107                                                                                              \n",
      "Parameters: {'learning_rate': 0.08, 'max_depth': 28, 'min_child_weight': 20, 'n_estimators': 15}                       \n",
      "Score -0.6191632337916749                                                                                              \n",
      "Parameters: {'learning_rate': 0.1, 'max_depth': 16, 'min_child_weight': 20, 'n_estimators': 10}                        \n",
      "Score -0.6156910115694527                                                                                              \n",
      "Parameters: {'learning_rate': 0.02, 'max_depth': 37, 'min_child_weight': 20, 'n_estimators': 5}                        \n",
      "Score -0.5768878524024752                                                                                              \n",
      "Parameters: {'learning_rate': 0.04, 'max_depth': 36, 'min_child_weight': 20, 'n_estimators': 15}                       \n",
      "Score -0.5782929106120296                                                                                              \n",
      "Parameters: {'learning_rate': 0.12, 'max_depth': 10, 'min_child_weight': 20, 'n_estimators': 15}                       \n",
      "Score -0.6671041104864635                                                                                              \n",
      "Parameters: {'learning_rate': 0.1, 'max_depth': 13, 'min_child_weight': 20, 'n_estimators': 15}                        \n",
      "Score -0.6321241258741258                                                                                              \n",
      "Parameters: {'learning_rate': 0.14, 'max_depth': 17, 'min_child_weight': 20, 'n_estimators': 15}                       \n",
      "Score -0.6883735287936107                                                                                              \n",
      "Parameters: {'learning_rate': 0.12, 'max_depth': 28, 'min_child_weight': 20, 'n_estimators': 10}                       \n",
      "Score -0.6191632337916749                                                                                              \n",
      "Parameters: {'learning_rate': 0.06, 'max_depth': 35, 'min_child_weight': 20, 'n_estimators': 5}                        \n",
      "Score -0.5768878524024752                                                                                              \n",
      "Parameters: {'learning_rate': 0.08, 'max_depth': 47, 'min_child_weight': 20, 'n_estimators': 15}                       \n",
      "Score -0.6191632337916749                                                                                              \n",
      "Parameters: {'learning_rate': 0.14, 'max_depth': 41, 'min_child_weight': 20, 'n_estimators': 15}                       \n",
      "Score -0.6883735287936107                                                                                              \n",
      "Parameters: {'learning_rate': 0.1, 'max_depth': 41, 'min_child_weight': 20, 'n_estimators': 15}                        \n",
      "Score -0.6321241258741258                                                                                              \n",
      "Parameters: {'learning_rate': 0.12, 'max_depth': 27, 'min_child_weight': 20, 'n_estimators': 15}                       \n",
      "Score -0.6671041104864635                                                                                              \n",
      "Parameters: {'learning_rate': 0.14, 'max_depth': 41, 'min_child_weight': 20, 'n_estimators': 15}                       \n",
      "Score -0.6883735287936107                                                                                              \n",
      "Parameters: {'learning_rate': 0.14, 'max_depth': 12, 'min_child_weight': 20, 'n_estimators': 15}                       \n",
      "Score -0.6883735287936107                                                                                              \n",
      "Parameters: {'learning_rate': 0.14, 'max_depth': 38, 'min_child_weight': 20, 'n_estimators': 15}                       \n",
      "Score -0.6883735287936107                                                                                              \n",
      "Parameters: {'learning_rate': 0.12, 'max_depth': 38, 'min_child_weight': 20, 'n_estimators': 15}                       \n",
      "Score -0.6671041104864635                                                                                              \n",
      "Parameters: {'learning_rate': 0.14, 'max_depth': 49, 'min_child_weight': 20, 'n_estimators': 15}                       \n",
      "Score -0.6883735287936107                                                                                              \n",
      "Parameters: {'learning_rate': 0.14, 'max_depth': 49, 'min_child_weight': 20, 'n_estimators': 15}                       \n",
      "Score -0.6883735287936107                                                                                              \n",
      "Parameters: {'learning_rate': 0.12, 'max_depth': 18, 'min_child_weight': 20, 'n_estimators': 15}                       \n",
      "Score -0.6671041104864635                                                                                              \n",
      "Parameters: {'learning_rate': 0.14, 'max_depth': 13, 'min_child_weight': 20, 'n_estimators': 15}                       \n",
      "Score -0.6883735287936107                                                                                              \n",
      "Parameters: {'learning_rate': 0.12, 'max_depth': 42, 'min_child_weight': 20, 'n_estimators': 15}                       \n",
      "Score -0.6671041104864635                                                                                              \n",
      "Parameters: {'learning_rate': 0.1, 'max_depth': 17, 'min_child_weight': 20, 'n_estimators': 5}                         \n",
      "Score -0.5782929106120296                                                                                              \n",
      " 75%|██████████████████████████████████▌           | 75/100 [00:09<00:03,  8.12trial/s, best loss: -0.6883735287936107]\n"
     ]
    }
   ],
   "source": [
    "#Full throttle ahead\n",
    "trials = Trials()\n",
    "fmin_objective = partial(objective, \n",
    "                         X_train=X_train, \n",
    "                         y_train=y_train,\n",
    "                         cv = 4,\n",
    "                         maximise = False,\n",
    "                         metric = \"precision\")\n",
    "\n",
    "fmin_output = fmin(fn=fmin_objective,\n",
    "            space=search_space,\n",
    "            algo=tpe.suggest,\n",
    "            max_evals=100,\n",
    "            trials=trials,\n",
    "            early_stop_fn=no_progress_loss(70))"
   ]
  },
  {
   "cell_type": "markdown",
   "id": "b84bc0b7-c8e2-4523-8d8e-19ee9c874754",
   "metadata": {},
   "source": [
    "# Get the Best Params\n"
   ]
  },
  {
   "cell_type": "code",
   "execution_count": 137,
   "id": "101d1d83-df91-4003-816f-c23579036bbf",
   "metadata": {},
   "outputs": [
    {
     "name": "stdout",
     "output_type": "stream",
     "text": [
      "{'learning_rate': 0.14, 'max_depth': 39, 'min_child_weight': 20, 'n_estimators': 15}\n"
     ]
    }
   ],
   "source": [
    "best = trials.best_trial[\"result\"][\"paramdict\"]\n",
    "print(best)\n"
   ]
  },
  {
   "cell_type": "code",
   "execution_count": 140,
   "id": "584df260-e04d-45d7-81a0-5590b1553480",
   "metadata": {},
   "outputs": [
    {
     "data": {
      "text/plain": [
       "XGBClassifier(base_score=0.5, booster='gbtree', colsample_bylevel=1,\n",
       "              colsample_bynode=1, colsample_bytree=1, eval_metric='logloss',\n",
       "              gamma=0, gpu_id=-1, importance_type='gain',\n",
       "              interaction_constraints='', learning_rate=0.14, max_delta_step=0,\n",
       "              max_depth=39, min_child_weight=20, missing=nan,\n",
       "              monotone_constraints='()', n_estimators=15, n_jobs=48,\n",
       "              num_parallel_tree=1, random_state=0, reg_alpha=0, reg_lambda=1,\n",
       "              scale_pos_weight=1, subsample=1, tree_method='exact',\n",
       "              use_label_encoder=False, validate_parameters=1, verbosity=None)"
      ]
     },
     "execution_count": 140,
     "metadata": {},
     "output_type": "execute_result"
    }
   ],
   "source": [
    "BestModel = XGBClassifier(**best,use_label_encoder=False,eval_metric=\"logloss\")\n",
    "BestModel.fit(X_train,y_train)"
   ]
  },
  {
   "cell_type": "code",
   "execution_count": 142,
   "id": "fea4c869-52bb-4f2f-bee3-1cab069a2f4b",
   "metadata": {},
   "outputs": [],
   "source": [
    "preds = BestModel.predict(X_test)"
   ]
  },
  {
   "cell_type": "code",
   "execution_count": 144,
   "id": "e9ec3198-938d-41f9-838c-a26f71b03ca8",
   "metadata": {},
   "outputs": [
    {
     "name": "stdout",
     "output_type": "stream",
     "text": [
      "              precision    recall  f1-score   support\n",
      "\n",
      "           0       0.68      0.90      0.77       254\n",
      "           1       0.73      0.38      0.50       178\n",
      "\n",
      "    accuracy                           0.69       432\n",
      "   macro avg       0.70      0.64      0.64       432\n",
      "weighted avg       0.70      0.69      0.66       432\n",
      "\n"
     ]
    }
   ],
   "source": [
    "print(classification_report(y_true=y_test,y_pred=preds))"
   ]
  },
  {
   "cell_type": "markdown",
   "id": "96967bc5-940d-44b0-a9f8-0a3a6fadec8d",
   "metadata": {},
   "source": [
    "# Hope it helps"
   ]
  },
  {
   "cell_type": "code",
   "execution_count": null,
   "id": "7a92b5a0-1267-40b9-be9e-7e988f0e8f6a",
   "metadata": {},
   "outputs": [],
   "source": []
  },
  {
   "cell_type": "code",
   "execution_count": null,
   "id": "4257231c-5f76-4c42-9a89-0d0ce27e31f7",
   "metadata": {},
   "outputs": [],
   "source": []
  },
  {
   "cell_type": "code",
   "execution_count": null,
   "id": "8e81d4fd-3cc9-48b7-bc70-a4228f0fb267",
   "metadata": {},
   "outputs": [],
   "source": []
  }
 ],
 "metadata": {
  "kernelspec": {
   "display_name": "Python 3",
   "language": "python",
   "name": "python3"
  },
  "language_info": {
   "codemirror_mode": {
    "name": "ipython",
    "version": 3
   },
   "file_extension": ".py",
   "mimetype": "text/x-python",
   "name": "python",
   "nbconvert_exporter": "python",
   "pygments_lexer": "ipython3",
   "version": "3.9.6"
  }
 },
 "nbformat": 4,
 "nbformat_minor": 5
}
